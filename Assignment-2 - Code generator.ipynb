{
 "cells": [
  {
   "cell_type": "markdown",
   "metadata": {
    "application/vnd.databricks.v1+cell": {
     "cellMetadata": {},
     "inputWidgets": {},
     "nuid": "797c2b71-679f-4f9f-92df-cb4df01e4b0d",
     "showTitle": false,
     "tableResultSettingsMap": {},
     "title": ""
    }
   },
   "source": [
    "##Generative AI Assessment: Python Code with Comments\n",
    "Objective:\n",
    "Build a model which can generate code with comments based on your prompt\n",
    "Submit-> have to upload your DBC and ipynb into your personal github accounts, and share URL on shantanu.pandey@rpsconsulting.in"
   ]
  },
  {
   "cell_type": "code",
   "execution_count": 0,
   "metadata": {
    "application/vnd.databricks.v1+cell": {
     "cellMetadata": {
      "byteLimit": 2048000,
      "rowLimit": 10000
     },
     "inputWidgets": {},
     "nuid": "1ca4c42b-68a2-4e42-93a3-ebdfb0c5f8dc",
     "showTitle": false,
     "tableResultSettingsMap": {},
     "title": ""
    }
   },
   "outputs": [
    {
     "output_type": "stream",
     "name": "stdout",
     "output_type": "stream",
     "text": [
      "\u001B[43mNote: you may need to restart the kernel using dbutils.library.restartPython() to use updated packages.\u001B[0m\nCollecting openai==0.28\n  Downloading openai-0.28.0-py3-none-any.whl (76 kB)\n     ━━━━━━━━━━━━━━━━━━━━━━━━━━━━━━━━━━━━━━━ 76.5/76.5 kB 970.0 kB/s eta 0:00:00\nRequirement already satisfied: tqdm in /databricks/python3/lib/python3.10/site-packages (from openai==0.28) (4.64.1)\nRequirement already satisfied: requests>=2.20 in /databricks/python3/lib/python3.10/site-packages (from openai==0.28) (2.28.1)\nRequirement already satisfied: aiohttp in /databricks/python3/lib/python3.10/site-packages (from openai==0.28) (3.9.1)\nRequirement already satisfied: charset-normalizer<3,>=2 in /databricks/python3/lib/python3.10/site-packages (from requests>=2.20->openai==0.28) (2.0.4)\nRequirement already satisfied: certifi>=2017.4.17 in /databricks/python3/lib/python3.10/site-packages (from requests>=2.20->openai==0.28) (2022.12.7)\nRequirement already satisfied: idna<4,>=2.5 in /databricks/python3/lib/python3.10/site-packages (from requests>=2.20->openai==0.28) (3.4)\nRequirement already satisfied: urllib3<1.27,>=1.21.1 in /databricks/python3/lib/python3.10/site-packages (from requests>=2.20->openai==0.28) (1.26.14)\nRequirement already satisfied: yarl<2.0,>=1.0 in /databricks/python3/lib/python3.10/site-packages (from aiohttp->openai==0.28) (1.9.4)\nRequirement already satisfied: frozenlist>=1.1.1 in /databricks/python3/lib/python3.10/site-packages (from aiohttp->openai==0.28) (1.4.1)\nRequirement already satisfied: attrs>=17.3.0 in /databricks/python3/lib/python3.10/site-packages (from aiohttp->openai==0.28) (22.1.0)\nRequirement already satisfied: async-timeout<5.0,>=4.0 in /databricks/python3/lib/python3.10/site-packages (from aiohttp->openai==0.28) (4.0.3)\nRequirement already satisfied: aiosignal>=1.1.2 in /databricks/python3/lib/python3.10/site-packages (from aiohttp->openai==0.28) (1.3.1)\nRequirement already satisfied: multidict<7.0,>=4.5 in /databricks/python3/lib/python3.10/site-packages (from aiohttp->openai==0.28) (6.0.4)\nInstalling collected packages: openai\n  Attempting uninstall: openai\n    Found existing installation: openai 1.13.3\n    Uninstalling openai-1.13.3:\n      Successfully uninstalled openai-1.13.3\nSuccessfully installed openai-0.28.0\n\u001B[43mNote: you may need to restart the kernel using dbutils.library.restartPython() to use updated packages.\u001B[0m\n"
     ]
    }
   ],
   "source": [
    "!pip install openai==0.28"
   ]
  },
  {
   "cell_type": "code",
   "execution_count": 0,
   "metadata": {
    "application/vnd.databricks.v1+cell": {
     "cellMetadata": {
      "byteLimit": 2048000,
      "rowLimit": 10000
     },
     "inputWidgets": {},
     "nuid": "38cbf532-a7e5-4d81-9955-02262d952b12",
     "showTitle": false,
     "tableResultSettingsMap": {},
     "title": ""
    }
   },
   "outputs": [
    {
     "output_type": "stream",
     "name": "stdout",
     "output_type": "stream",
     "text": [
      "\u001B[43mNote: you may need to restart the kernel using dbutils.library.restartPython() to use updated packages.\u001B[0m\nRequirement already satisfied: openai in /local_disk0/.ephemeral_nfs/envs/pythonEnv-1b0efa52-fc8d-42e0-9471-09dcc142134b/lib/python3.10/site-packages (0.28.0)\nRequirement already satisfied: tenacity in /databricks/python3/lib/python3.10/site-packages (8.1.0)\nRequirement already satisfied: requests>=2.20 in /databricks/python3/lib/python3.10/site-packages (from openai) (2.28.1)\nRequirement already satisfied: aiohttp in /databricks/python3/lib/python3.10/site-packages (from openai) (3.9.1)\nRequirement already satisfied: tqdm in /databricks/python3/lib/python3.10/site-packages (from openai) (4.64.1)\nRequirement already satisfied: charset-normalizer<3,>=2 in /databricks/python3/lib/python3.10/site-packages (from requests>=2.20->openai) (2.0.4)\nRequirement already satisfied: certifi>=2017.4.17 in /databricks/python3/lib/python3.10/site-packages (from requests>=2.20->openai) (2022.12.7)\nRequirement already satisfied: urllib3<1.27,>=1.21.1 in /databricks/python3/lib/python3.10/site-packages (from requests>=2.20->openai) (1.26.14)\nRequirement already satisfied: idna<4,>=2.5 in /databricks/python3/lib/python3.10/site-packages (from requests>=2.20->openai) (3.4)\nRequirement already satisfied: frozenlist>=1.1.1 in /databricks/python3/lib/python3.10/site-packages (from aiohttp->openai) (1.4.1)\nRequirement already satisfied: async-timeout<5.0,>=4.0 in /databricks/python3/lib/python3.10/site-packages (from aiohttp->openai) (4.0.3)\nRequirement already satisfied: yarl<2.0,>=1.0 in /databricks/python3/lib/python3.10/site-packages (from aiohttp->openai) (1.9.4)\nRequirement already satisfied: aiosignal>=1.1.2 in /databricks/python3/lib/python3.10/site-packages (from aiohttp->openai) (1.3.1)\nRequirement already satisfied: attrs>=17.3.0 in /databricks/python3/lib/python3.10/site-packages (from aiohttp->openai) (22.1.0)\nRequirement already satisfied: multidict<7.0,>=4.5 in /databricks/python3/lib/python3.10/site-packages (from aiohttp->openai) (6.0.4)\n\u001B[43mNote: you may need to restart the kernel using dbutils.library.restartPython() to use updated packages.\u001B[0m\n"
     ]
    }
   ],
   "source": [
    "%pip install openai tenacity"
   ]
  },
  {
   "cell_type": "code",
   "execution_count": 0,
   "metadata": {
    "application/vnd.databricks.v1+cell": {
     "cellMetadata": {
      "byteLimit": 2048000,
      "rowLimit": 10000
     },
     "inputWidgets": {},
     "nuid": "1db436a2-e2d1-4592-87ab-36567e19733e",
     "showTitle": false,
     "tableResultSettingsMap": {},
     "title": ""
    }
   },
   "outputs": [],
   "source": [
    "dbutils.library.restartPython()"
   ]
  },
  {
   "cell_type": "code",
   "execution_count": 0,
   "metadata": {
    "application/vnd.databricks.v1+cell": {
     "cellMetadata": {
      "byteLimit": 2048000,
      "rowLimit": 10000
     },
     "inputWidgets": {},
     "nuid": "6158123f-9e98-43f8-ab3f-899ead16dea2",
     "showTitle": false,
     "tableResultSettingsMap": {},
     "title": ""
    }
   },
   "outputs": [],
   "source": [
    "import openai\n",
    "from tenacity import retry, stop_after_attempt, wait_exponential, retry_if_exception_type\n",
    "\n",
    "# Setting up the API configuration\n",
    "openai.api_type = \"azure\"\n",
    "openai.api_base = \"https://gen-ai-certification-open-ai.openai.azure.com/\"\n",
    "openai.api_version = \"2024-08-01-preview\"\n",
    "openai.api_key = \"43kYkbFzKypJBbZVFb5r2BwTaW1TKb6gVdJ2Ry13B6nncjRXx7QjJQQJ99AKAC77bzfXJ3w3AAABACOGlQDL\"\n",
    "\n",
    "@retry(\n",
    "    stop=stop_after_attempt(5),\n",
    "    wait=wait_exponential(multiplier=1, min=4, max=10),\n",
    "    retry=retry_if_exception_type(Exception)\n",
    ")\n",
    "def generate_code_with_comments(prompt):\n",
    "    try:\n",
    "        response = openai.ChatCompletion.create(\n",
    "            engine=\"gpt-4o-mini\",\n",
    "            messages=[\n",
    "                {\"role\": \"system\", \"content\": \"You are a helpful assistant that generates Python code with detailed comments.\"},\n",
    "                {\"role\": \"user\", \"content\": prompt}\n",
    "            ],\n",
    "            temperature=0.7,\n",
    "            max_tokens=1000\n",
    "        )\n",
    "        \n",
    "        # Checking if the response has the expected structure\n",
    "        if hasattr(response, 'choices') and len(response.choices) > 0:\n",
    "            if hasattr(response.choices[0], 'message') and hasattr(response.choices[0].message, 'content'):\n",
    "                return response.choices[0].message.content.strip()\n",
    "        \n",
    "        # If the response doesn't have the expected structure, raise an exception\n",
    "        raise AttributeError(\"Unexpected response structure from API\")\n",
    "    \n",
    "    except Exception as e:\n",
    "        print(f\"An error occurred: {str(e)}\")\n",
    "        raise\n"
   ]
  },
  {
   "cell_type": "code",
   "execution_count": 0,
   "metadata": {
    "application/vnd.databricks.v1+cell": {
     "cellMetadata": {
      "byteLimit": 2048000,
      "rowLimit": 10000
     },
     "inputWidgets": {},
     "nuid": "159eee7c-cf86-4f64-8053-4c33afba7578",
     "showTitle": false,
     "tableResultSettingsMap": {},
     "title": ""
    }
   },
   "outputs": [
    {
     "output_type": "stream",
     "name": "stdout",
     "output_type": "stream",
     "text": [
      "Generated Code:\nCertainly! Below is a Python function that calculates the factorial of a given non-negative integer. The function includes detailed comments explaining each part of the code.\n\n```python\ndef factorial(n):\n    \"\"\"\n    Calculate the factorial of a non-negative integer n.\n\n    Parameters:\n    n (int): A non-negative integer whose factorial is to be calculated.\n\n    Returns:\n    int: The factorial of the number n.\n    \n    Raises:\n    ValueError: If n is a negative integer.\n    \"\"\"\n    # Check if the input is a negative integer\n    if n < 0:\n        raise ValueError(\"Factorial is not defined for negative numbers.\")\n    \n    # Initialize the result variable to 1 (the factorial of 0 is 1)\n    result = 1\n    \n    # Loop through all integers from 1 to n (inclusive)\n    for i in range(1, n + 1):\n        result *= i  # Multiply the current result by i\n    \n    return result  # Return the calculated factorial\n\n# Example usage:\nif __name__ == \"__main__\":\n    number = 5\n    print(f\"The factorial of {number} is {factorial(number)}\")\n```\n\n### Explanation:\n1. **Function Definition**: The function `factorial` takes a single parameter `n`.\n2. **Input Validation**: It raises a `ValueError` if `n` is negative, as factorials for negative integers are not defined.\n3. **Initialization**: A variable `result` is initialized to 1, since the factorial of 0 is defined as 1.\n4. **Loop**: A `for` loop iterates from 1 to `n`, multiplying `result` by each integer `i`.\n5. **Return Value**: The final computed factorial is returned.\n6. **Example Usage**: The `if __name__ == \"__main__\":` block provides a way to run a test case when the script is executed directly.\n\nYou can call `factorial` with any non-negative integer to get its factorial.\n"
     ]
    }
   ],
   "source": [
    "# Example usage - 1\n",
    "prompt = \"Write a Python function that calculates the factorial of a number\"\n",
    "\n",
    "try:\n",
    "    generated_code = generate_code_with_comments(prompt)\n",
    "    print(\"Generated Code:\")\n",
    "    print(generated_code)\n",
    "except Exception as e:\n",
    "    print(f\"Failed to generate code after multiple attempts: {str(e)}\")"
   ]
  },
  {
   "cell_type": "code",
   "execution_count": 0,
   "metadata": {
    "application/vnd.databricks.v1+cell": {
     "cellMetadata": {
      "byteLimit": 2048000,
      "rowLimit": 10000
     },
     "inputWidgets": {},
     "nuid": "35510f5d-411c-41e5-a207-dc00332086be",
     "showTitle": false,
     "tableResultSettingsMap": {},
     "title": ""
    }
   },
   "outputs": [
    {
     "output_type": "stream",
     "name": "stdout",
     "output_type": "stream",
     "text": [
      "Generated Code:\nCertainly! Below is a Python function that implements the bubble sort algorithm to sort a list of numbers. I've included detailed comments to explain each part of the code.\n\n```python\ndef bubble_sort(numbers):\n    \"\"\"\n    Sorts a list of numbers using the bubble sort algorithm.\n\n    Parameters:\n    numbers (list): A list of numeric values to be sorted.\n\n    Returns:\n    list: A sorted list of numbers.\n    \"\"\"\n    n = len(numbers)  # Get the number of elements in the list\n\n    # Traverse through all elements in the list\n    for i in range(n):\n        # Initialize a flag to check if any swapping occurs\n        swapped = False\n        \n        # Last i elements are already sorted, so we don't need to check them\n        for j in range(0, n - i - 1):\n            # Compare the adjacent elements\n            if numbers[j] > numbers[j + 1]:\n                # If the element found is greater, swap it with the next element\n                numbers[j], numbers[j + 1] = numbers[j + 1], numbers[j]\n                swapped = True  # Set the flag to True indicating a swap occurred\n        \n        # If no two elements were swapped in the inner loop, the list is already sorted\n        if not swapped:\n            break\n\n    return numbers  # Return the sorted list\n\n# Example usage:\nif __name__ == \"__main__\":\n    unsorted_list = [64, 34, 25, 12, 22, 11, 90]\n    sorted_list = bubble_sort(unsorted_list)\n    print(\"Sorted list is:\", sorted_list)\n```\n\n### Explanation of the Code:\n- **Function Definition**: The function `bubble_sort` takes a list of numbers as an argument.\n- **Length Calculation**: It calculates the length of the list `n` to know how many elements need to be sorted.\n- **Outer Loop**: The outer loop runs `n` times, where `i` keeps track of how many elements are already sorted at the end of the list.\n- **Swapping Flag**: A boolean flag `swapped` is used to check if any elements were swapped during a pass. If no swaps occurred, the list is already sorted, and we can exit early.\n- **Inner Loop**: The inner loop performs the actual comparisons and swaps of adjacent elements. It only runs up to `n - i - 1`, because the last `i` elements are already sorted.\n- **Element Comparison**: Inside the inner loop, if the current element is greater than the next element, they are swapped.\n- **Early Termination**: If the inner loop completes without any swaps, it breaks out of the outer loop as the list is sorted.\n- **Return**: Finally, the sorted list is returned.\n\nYou can test the function with the provided example usage.\n"
     ]
    }
   ],
   "source": [
    "# Example usage - 2\n",
    "prompt = \"Write a Python function that sorts a list of number using bubble sort\"\n",
    "\n",
    "try:\n",
    "    generated_code = generate_code_with_comments(prompt)\n",
    "    print(\"Generated Code:\")\n",
    "    print(generated_code)\n",
    "except Exception as e:\n",
    "    print(f\"Failed to generate code after multiple attempts: {str(e)}\")"
   ]
  },
  {
   "cell_type": "code",
   "execution_count": 0,
   "metadata": {
    "application/vnd.databricks.v1+cell": {
     "cellMetadata": {
      "byteLimit": 2048000,
      "rowLimit": 10000
     },
     "inputWidgets": {},
     "nuid": "e49ea309-9c90-4758-9d42-e1fa61361b44",
     "showTitle": false,
     "tableResultSettingsMap": {},
     "title": ""
    }
   },
   "outputs": [
    {
     "output_type": "stream",
     "name": "stdout",
     "output_type": "stream",
     "text": [
      "Generated Code:\nTo find the middle of a linked list in Python, we can use the two-pointer technique. We'll maintain two pointers: one that moves one step at a time (slow pointer) and another that moves two steps at a time (fast pointer). When the fast pointer reaches the end of the list, the slow pointer will be at the middle. If the number of nodes is even, the slow pointer will point to the second middle node.\n\nHere's a complete implementation of the function along with a simple linked list class for demonstration:\n\n```python\nclass ListNode:\n    \"\"\"A class for a single node in a linked list.\"\"\"\n    def __init__(self, value=0, next=None):\n        self.value = value  # The value of the node\n        self.next = next    # Pointer to the next node in the list\n\nclass LinkedList:\n    \"\"\"A class for the linked list.\"\"\"\n    def __init__(self):\n        self.head = None  # Initialize the head of the list to None\n    \n    def append(self, value):\n        \"\"\"Append a new node with the given value to the end of the list.\"\"\"\n        new_node = ListNode(value)\n        if not self.head:\n            self.head = new_node  # If the list is empty, set the new node as the head\n            return\n        last_node = self.head\n        while last_node.next:\n            last_node = last_node.next  # Traverse to the last node\n        last_node.next = new_node  # Link the new node at the end of the list\n\ndef find_middle(head):\n    \"\"\"Finds and returns the middle node of the linked list.\n    \n    If the number of nodes is even, it returns the second middle node.\n    \n    Args:\n        head (ListNode): The head of the linked list.\n        \n    Returns:\n        ListNode: The middle node of the linked list.\n    \"\"\"\n    slow = head  # Initialize slow pointer\n    fast = head  # Initialize fast pointer\n    \n    # Traverse the list with fast moving twice as fast as slow\n    while fast and fast.next:\n        slow = slow.next          # Move slow pointer by one step\n        fast = fast.next.next     # Move fast pointer by two steps\n    \n    # When fast is None or fast.next is None, slow will be at the middle node\n    return slow  # Return the middle node\n\n# Example usage:\nif __name__ == \"__main__\":\n    # Create a linked list: 1 -> 2 -> 3 -> 4 -> 5\n    ll = LinkedList()\n    for i in range(1, 6):\n        ll.append(i)\n    \n    middle_node = find_middle(ll.head)\n    print(f\"The middle node's value is: {middle_node.value}\")  # Output: 3\n\n    # Create a linked list with an even number of nodes: 1 -> 2 -> 3 -> 4\n    ll_even = LinkedList()\n    for i in range(1, 5):\n        ll_even.append(i)\n    \n    middle_node_even = find_middle(ll_even.head)\n    print(f\"The middle node's value is: {middle_node_even.value}\")  # Output: 3\n```\n\n### Explanation:\n1. **ListNode Class**: Represents a single node in a linked list, with a value and a pointer to the next node.\n2. **LinkedList Class**: Manages the linked list, allowing nodes to be appended.\n3. **find_middle Function**: Implements the two-pointer technique to find the middle node. It returns the second middle node if the list has an even number of nodes.\n4. **Example Usage**: Demonstrates how to create a linked list and find its middle node, both for odd and even lengths.\n"
     ]
    }
   ],
   "source": [
    "# Example usage - 3\n",
    "prompt = \"Write a Python function to find the middle of the linked list. If the number of nodes are even, then there would be two middle nodes, so return the second middle node.\"\n",
    "\n",
    "try:\n",
    "    generated_code = generate_code_with_comments(prompt)\n",
    "    print(\"Generated Code:\")\n",
    "    print(generated_code)\n",
    "except Exception as e:\n",
    "    print(f\"Failed to generate code after multiple attempts: {str(e)}\")"
   ]
  }
 ],
 "metadata": {
  "application/vnd.databricks.v1+notebook": {
   "dashboards": [],
   "environmentMetadata": {
    "base_environment": "",
    "client": "1"
   },
   "language": "python",
   "notebookMetadata": {
    "pythonIndentUnit": 2
   },
   "notebookName": "Assignment-2 - Code generator",
   "widgets": {}
  },
  "language_info": {
   "name": "python"
  }
 },
 "nbformat": 4,
 "nbformat_minor": 0
}